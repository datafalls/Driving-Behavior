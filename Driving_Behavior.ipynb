{
 "cells": [
  {
   "cell_type": "code",
   "execution_count": null,
   "metadata": {},
   "outputs": [],
   "source": [
    "!pip install -U pycaret"
   ]
  },
  {
   "cell_type": "code",
   "execution_count": null,
   "metadata": {},
   "outputs": [],
   "source": [
    "# This Python 3 environment comes with many helpful analytics libraries installed\n",
    "# It is defined by the kaggle/python Docker image: https://github.com/kaggle/docker-python\n",
    "# For example, here's several helpful packages to load\n",
    "\n",
    "import numpy as np # linear algebra\n",
    "import pandas as pd # data processing, CSV file I/O (e.g. pd.read_csv)\n",
    "\n",
    "# Input data files are available in the read-only \"../input/\" directory\n",
    "# For example, running this (by clicking run or pressing Shift+Enter) will list all files under the input directory\n",
    "\n",
    "import os\n",
    "for dirname, _, filenames in os.walk('/kaggle/input'):\n",
    "    for filename in filenames:\n",
    "        print(os.path.join(dirname, filename))\n",
    "\n",
    "# You can write up to 20GB to the current directory (/kaggle/working/) that gets preserved as output when you create a version using \"Save & Run All\" \n",
    "# You can also write temporary files to /kaggle/temp/, but they won't be saved outside of the current session"
   ]
  },
  {
   "cell_type": "code",
   "execution_count": null,
   "metadata": {},
   "outputs": [],
   "source": [
    "import pandas as pd\n",
    "import numpy as np\n",
    "import warnings\n",
    "from sklearn.utils import shuffle\n",
    "from sklearn.preprocessing import LabelEncoder, StandardScaler\n",
    "from sklearn.model_selection import train_test_split\n",
    "from keras.models import Sequential\n",
    "from keras.layers import Dense, Dropout\n",
    "from keras.utils import to_categorical\n",
    "from pycaret.classification import *\n",
    "import plotly.express as px\n",
    "import plotly.graph_objects as go\n",
    "from plotly.subplots import make_subplots\n",
    "\n",
    "warnings.filterwarnings('ignore')"
   ]
  },
  {
   "cell_type": "code",
   "execution_count": null,
   "metadata": {},
   "outputs": [],
   "source": [
    "df_train = pd.read_csv('/kaggle/input/driving-behavior/train_motion_data.csv')\n",
    "df_test = pd.read_csv('/kaggle/input/driving-behavior/test_motion_data.csv')"
   ]
  },
  {
   "cell_type": "code",
   "execution_count": null,
   "metadata": {},
   "outputs": [],
   "source": [
    "df_train['Class'] = df_train['Class'].replace(['NORMAL', 'SLOW', 'AGGRESSIVE'], [1, 0, 1])\n",
    "df_test['Class'] = df_test['Class'].replace(['NORMAL', 'SLOW', 'AGGRESSIVE'], [1, 0, 1])"
   ]
  },
  {
   "cell_type": "code",
   "execution_count": null,
   "metadata": {},
   "outputs": [],
   "source": [
    "df_train = shuffle(df_train, random_state=42)\n",
    "df_test = shuffle(df_test, random_state=42)"
   ]
  },
  {
   "cell_type": "code",
   "execution_count": null,
   "metadata": {},
   "outputs": [],
   "source": [
    "import plotly.express as px\n",
    "\n",
    "# bar plot\n",
    "fig = px.histogram(df_train, x='Class', nbins=3, color='Class')\n",
    "fig.show()\n",
    "\n",
    "# box plots\n",
    "fig = px.box(df_train, x='Class', y='AccX', color='Class')\n",
    "fig.show()\n",
    "\n",
    "fig = px.box(df_train, x='Class', y='AccY', color='Class')\n",
    "fig.show()\n",
    "\n",
    "fig = px.box(df_train, x='Class', y='AccZ', color='Class')\n",
    "fig.show()\n",
    "\n",
    "fig = px.box(df_train, x='Class', y='GyroX', color='Class')\n",
    "fig.show()\n",
    "\n",
    "fig = px.box(df_train, x='Class', y='GyroY', color='Class')\n",
    "fig.show()\n",
    "\n",
    "fig = px.box(df_train, x='Class', y='GyroZ', color='Class')\n",
    "fig.show()"
   ]
  },
  {
   "cell_type": "code",
   "execution_count": null,
   "metadata": {},
   "outputs": [],
   "source": [
    "import plotly.express as px\n",
    "\n",
    "fig1 = px.bar(df_train.groupby('Class').size().reset_index(name='Count'), x='Class', y='Count', labels={'Class': 'Class', 'Count': 'Count'})\n",
    "fig1.update_layout(title='Class Distribution')\n",
    "fig1.show()"
   ]
  },
  {
   "cell_type": "code",
   "execution_count": null,
   "metadata": {},
   "outputs": [],
   "source": [
    "import plotly.express as px\n",
    "\n",
    "fig = px.scatter_matrix(df_train, dimensions=['AccX', 'AccY', 'AccZ', 'GyroX', 'GyroY', 'GyroZ'], color='Class')\n",
    "fig.update_layout(title='Pairplot of Features')\n",
    "fig.show()"
   ]
  },
  {
   "cell_type": "code",
   "execution_count": null,
   "metadata": {},
   "outputs": [],
   "source": [
    "import plotly.graph_objects as go\n",
    "\n",
    "fig = go.Figure(data=go.Heatmap(z=df_train.corr(), x=df_train.columns, y=df_train.columns, colorscale='Blues', zmin=-1, zmax=1))\n",
    "fig.update_layout(title='Correlation Heatmap')\n",
    "fig.show()"
   ]
  },
  {
   "cell_type": "code",
   "execution_count": null,
   "metadata": {},
   "outputs": [],
   "source": [
    "df_train = df_train.drop(['Timestamp'], axis=1)\n",
    "df_test = df_test.drop(['Timestamp'], axis=1)"
   ]
  },
  {
   "cell_type": "code",
   "execution_count": null,
   "metadata": {},
   "outputs": [],
   "source": [
    "train_data, val_data = train_test_split(df_train, test_size=0.2, random_state=42)"
   ]
  },
  {
   "cell_type": "code",
   "execution_count": null,
   "metadata": {},
   "outputs": [],
   "source": [
    "X_train = train_data.iloc[:, :-1].values\n",
    "y_train = train_data.iloc[:, -1].values\n",
    "X_val = val_data.iloc[:, :-1].values\n",
    "y_val = val_data.iloc[:, -1].values\n",
    "X_test = df_test.iloc[:, :-1].values\n",
    "y_test = df_test.iloc[:, -1].values"
   ]
  },
  {
   "cell_type": "code",
   "execution_count": null,
   "metadata": {},
   "outputs": [],
   "source": [
    "le = LabelEncoder()\n",
    "y_train = le.fit_transform(y_train)\n",
    "y_val = le.transform(y_val)\n",
    "y_test = le.transform(y_test)"
   ]
  },
  {
   "cell_type": "code",
   "execution_count": null,
   "metadata": {},
   "outputs": [],
   "source": [
    "scaler = StandardScaler()\n",
    "X_train = scaler.fit_transform(X_train)\n",
    "X_val = scaler.transform(X_val)\n",
    "X_test = scaler.transform(X_test)"
   ]
  },
  {
   "cell_type": "code",
   "execution_count": null,
   "metadata": {},
   "outputs": [],
   "source": [
    "y_train = to_categorical(y_train)\n",
    "y_val = to_categorical(y_val)\n",
    "y_test = to_categorical(y_test)"
   ]
  },
  {
   "cell_type": "code",
   "execution_count": null,
   "metadata": {},
   "outputs": [],
   "source": [
    "model = Sequential()\n",
    "model.add(Dense(64, input_dim=X_train.shape[1], activation='relu'))\n",
    "model.add(Dropout(0.5))\n",
    "model.add(Dense(y_train.shape[1], activation='softmax'))"
   ]
  },
  {
   "cell_type": "code",
   "execution_count": null,
   "metadata": {},
   "outputs": [],
   "source": [
    "model.compile(loss='categorical_crossentropy', optimizer='adam', metrics=['accuracy'])"
   ]
  },
  {
   "cell_type": "code",
   "execution_count": null,
   "metadata": {},
   "outputs": [],
   "source": [
    "history = model.fit(X_train, y_train, epochs=50, batch_size=64, validation_data=(X_val, y_val))"
   ]
  },
  {
   "cell_type": "markdown",
   "metadata": {},
   "source": [
    "The model has been trained on a dataset with a training set accuracy of 62.13% and a validation set accuracy of 65.98%. The loss function used during training is the binary cross-entropy loss, and the optimizer used is the default one in Keras, which is Adam.\n",
    "\n",
    "The training accuracy starts at 52.69% and gradually improves to 62.13% after 50 epochs. The validation accuracy starts at 63.79% and reaches a peak of 66.67% at epoch 3, then fluctuates between 65.98% and 66.67% for the remaining epochs."
   ]
  },
  {
   "cell_type": "code",
   "execution_count": null,
   "metadata": {},
   "outputs": [],
   "source": [
    "score = model.evaluate(X_test, y_test, batch_size=64)\n",
    "print('Test loss:', score[0])\n",
    "print('Test accuracy:', score[1])"
   ]
  },
  {
   "cell_type": "markdown",
   "metadata": {},
   "source": [
    "The test loss and accuracy are reported as the final performance metrics of the model. The test loss is 0.6577 and the test accuracy is 0.5879, which indicates that the model did not perform well on the test data."
   ]
  },
  {
   "cell_type": "code",
   "execution_count": null,
   "metadata": {},
   "outputs": [],
   "source": [
    "import plotly.graph_objects as go\n",
    "\n",
    "# Create figure\n",
    "fig = go.Figure()\n",
    "\n",
    "# Add training loss trace\n",
    "fig.add_trace(\n",
    "    go.Scatter(x=[0], y=[history.history['loss'][0]], name='Training Loss', mode='lines', line=dict(color='blue'))\n",
    ")\n",
    "\n",
    "# Add validation loss trace\n",
    "fig.add_trace(\n",
    "    go.Scatter(x=[0], y=[history.history['val_loss'][0]], name='Validation Loss', mode='lines', line=dict(color='orange'))\n",
    ")\n",
    "\n",
    "# Set up layout\n",
    "fig.update_layout(\n",
    "    title='Training and Validation Loss',\n",
    "    xaxis_title='Epoch',\n",
    "    yaxis_title='Loss',\n",
    "    template='plotly_white',\n",
    "    updatemenus=[dict(\n",
    "        type='buttons',\n",
    "        showactive=False,\n",
    "        buttons=[dict(\n",
    "            label='Play',\n",
    "            method='animate',\n",
    "            args=[None, dict(frame=dict(duration=500, redraw=True), fromcurrent=True)]\n",
    "        ), dict(\n",
    "            label='Pause',\n",
    "            method='animate',\n",
    "            args=[[None], dict(frame=dict(duration=0, redraw=False), mode='immediate', transition=dict(duration=0))]\n",
    "        )]\n",
    "    )]\n",
    ")\n",
    "\n",
    "# Define animation frames\n",
    "frames = [go.Frame(\n",
    "    data=[\n",
    "        go.Scatter(x=list(range(epoch+1)), y=history.history['loss'][:epoch+1], mode='lines', line=dict(color='blue')),\n",
    "        go.Scatter(x=list(range(epoch+1)), y=history.history['val_loss'][:epoch+1], mode='lines', line=dict(color='orange'))\n",
    "    ]\n",
    ") for epoch in range(len(history.history['loss']))]\n",
    "\n",
    "# Add frames to animation\n",
    "fig.frames = frames\n",
    "\n",
    "# Show figure\n",
    "fig.show()"
   ]
  },
  {
   "cell_type": "code",
   "execution_count": null,
   "metadata": {},
   "outputs": [],
   "source": [
    "import plotly.graph_objs as go\n",
    "from plotly.subplots import make_subplots\n",
    "\n",
    "# Create subplots\n",
    "fig = make_subplots(rows=1, cols=2, subplot_titles=(\"Training Accuracy\", \"Validation Accuracy\"))\n",
    "\n",
    "# Add traces for training and validation accuracy\n",
    "fig.add_trace(go.Scatter(x=history.epoch, y=history.history['accuracy'], mode='lines', name='Training Accuracy'), row=1, col=1)\n",
    "fig.add_trace(go.Scatter(x=history.epoch, y=history.history['val_accuracy'], mode='lines', name='Validation Accuracy'), row=1, col=2)\n",
    "\n",
    "# Set up animation frames\n",
    "frames = [go.Frame(data=[go.Scatter(x=history.epoch[:i+1], y=history.history['accuracy'][:i+1], mode='lines', name='Training Accuracy'),\n",
    "                         go.Scatter(x=history.epoch[:i+1], y=history.history['val_accuracy'][:i+1], mode='lines', name='Validation Accuracy')])\n",
    "         for i in range(len(history.epoch))]\n",
    "\n",
    "# Add animation to figure\n",
    "fig.update(frames=frames)\n",
    "fig.update_layout(updatemenus=[dict(type='buttons',\n",
    "                                    showactive=False,\n",
    "                                    buttons=[dict(label='Play',\n",
    "                                                  method='animate',\n",
    "                                                  args=[None,\n",
    "                                                        {'frame': {'duration': 1000, 'redraw': True},\n",
    "                                                         'fromcurrent': True, 'transition': {'duration': 0}}]),\n",
    "                                             dict(label='Pause',\n",
    "                                                  method='animate',\n",
    "                                                  args=[[None], {'frame': {'duration': 0, 'redraw': False},\n",
    "                                                                 'mode': 'immediate',\n",
    "                                                                 'transition': {'duration': 0}}])])])\n",
    "\n",
    "# Set animation layout properties\n",
    "fig.update_layout(title='Training and Validation Accuracy',\n",
    "                  xaxis_title='Epoch',\n",
    "                  yaxis_title='Accuracy',\n",
    "                  showlegend=False,\n",
    "                  width=1000,\n",
    "                  height=500)\n",
    "\n",
    "fig.show()"
   ]
  },
  {
   "cell_type": "code",
   "execution_count": null,
   "metadata": {},
   "outputs": [],
   "source": [
    "fig = px.scatter(x=[0], y=[0], text=['Thank You!'], size=[1000])\n",
    "fig.update_traces(textfont_size=100, textfont_color='black')\n",
    "fig.update_layout(\n",
    "    width=800, height=800,\n",
    "    xaxis=dict(showgrid=False, zeroline=False, showticklabels=False),\n",
    "    yaxis=dict(showgrid=False, zeroline=False, showticklabels=False),\n",
    "    showlegend=False,\n",
    "    plot_bgcolor='white',\n",
    "    paper_bgcolor='white',\n",
    ")\n",
    "fig.show()"
   ]
  },
  {
   "cell_type": "code",
   "execution_count": null,
   "metadata": {},
   "outputs": [],
   "source": []
  }
 ],
 "metadata": {
  "language_info": {
   "name": "python"
  },
  "orig_nbformat": 4
 },
 "nbformat": 4,
 "nbformat_minor": 2
}
